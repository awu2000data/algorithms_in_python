{
 "cells": [
  {
   "cell_type": "code",
   "execution_count": 3,
   "metadata": {},
   "outputs": [],
   "source": [
    "def insertion_sort(seq):\n",
    "    \"\"\"\n",
    "    This algorithm has a worst case time complexity of O(n^2).\n",
    "    There is a nested loop, with a maximum of n iterations on each layer.\n",
    "    The first loop controls the insertion point. The second loop controls finding \n",
    "    the hole for the insertion point element, if it is less than the preceding elements.\n",
    "    Hence, worst case number of actions is n^2.\n",
    "    \"\"\"\n",
    "    for i in xrange(len(seq)):\n",
    "        insert_val = seq[i]\n",
    "        insert_pos = i\n",
    "        while insert_pos > 0 and seq[insert_pos - 1] > insert_val:\n",
    "            seq[insert_pos] = seq[insert_pos - 1] # shifts element along to right to create insertion point.\n",
    "            insert_pos -= 1\n",
    "        seq[insert_pos] = insert_val # always defaults to this on first outer loop run. Inserts our value when position is found.\n",
    "    return seq"
   ]
  },
  {
   "cell_type": "code",
   "execution_count": 4,
   "metadata": {},
   "outputs": [
    {
     "name": "stdout",
     "output_type": "stream",
     "text": [
      "[4, 2, 7, 5, 1, 5, 4, 3, 9, 1]\n"
     ]
    }
   ],
   "source": [
    "from random import randrange\n",
    "\n",
    "arr = [randrange(10) for i in xrange(10)]\n",
    "print arr"
   ]
  },
  {
   "cell_type": "code",
   "execution_count": 5,
   "metadata": {},
   "outputs": [
    {
     "name": "stdout",
     "output_type": "stream",
     "text": [
      "[1, 1, 2, 3, 4, 4, 5, 5, 7, 9]\n"
     ]
    }
   ],
   "source": [
    "print insertion_sort(arr)"
   ]
  }
 ],
 "metadata": {
  "kernelspec": {
   "display_name": "Python 2",
   "language": "python",
   "name": "python2"
  },
  "language_info": {
   "codemirror_mode": {
    "name": "ipython",
    "version": 2
   },
   "file_extension": ".py",
   "mimetype": "text/x-python",
   "name": "python",
   "nbconvert_exporter": "python",
   "pygments_lexer": "ipython2",
   "version": "2.7.13"
  }
 },
 "nbformat": 4,
 "nbformat_minor": 2
}
