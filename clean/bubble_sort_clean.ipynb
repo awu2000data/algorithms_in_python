{
 "cells": [
  {
   "cell_type": "code",
   "execution_count": 4,
   "metadata": {},
   "outputs": [],
   "source": [
    "def bubble_sort(seq):\n",
    "    for i in xrange(len(seq) - 1):\n",
    "        swapped = False\n",
    "        for j in xrange(len(seq) - 1):\n",
    "            if seq[j] > seq[j + 1]:\n",
    "                seq[j], seq[j + 1] = seq[j + 1], seq[j]\n",
    "                swapped = True\n",
    "        if swapped is False:\n",
    "            break\n",
    "    return seq"
   ]
  },
  {
   "cell_type": "code",
   "execution_count": 7,
   "metadata": {},
   "outputs": [
    {
     "name": "stdout",
     "output_type": "stream",
     "text": [
      "[3, 1, 0, 0, 4, 0, 6, 6, 2, 7]\n"
     ]
    }
   ],
   "source": [
    "from random import randrange\n",
    "\n",
    "arr = [randrange(10) for i in xrange(10)]\n",
    "print arr"
   ]
  },
  {
   "cell_type": "code",
   "execution_count": 8,
   "metadata": {},
   "outputs": [
    {
     "name": "stdout",
     "output_type": "stream",
     "text": [
      "[0, 0, 0, 1, 2, 3, 4, 6, 6, 7]\n"
     ]
    }
   ],
   "source": [
    "print bubble_sort(arr)"
   ]
  }
 ],
 "metadata": {
  "kernelspec": {
   "display_name": "Python 2",
   "language": "python",
   "name": "python2"
  },
  "language_info": {
   "codemirror_mode": {
    "name": "ipython",
    "version": 2
   },
   "file_extension": ".py",
   "mimetype": "text/x-python",
   "name": "python",
   "nbconvert_exporter": "python",
   "pygments_lexer": "ipython2",
   "version": "2.7.13"
  }
 },
 "nbformat": 4,
 "nbformat_minor": 2
}
