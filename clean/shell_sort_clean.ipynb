{
 "cells": [
  {
   "cell_type": "code",
   "execution_count": 3,
   "metadata": {},
   "outputs": [],
   "source": [
    "def shell_sort(seq):\n",
    "    gap = 1\n",
    "    while gap <= len(seq) / 3:\n",
    "        gap = (gap * 3) + 1\n",
    "    while gap > 0:\n",
    "        for i in xrange(gap, len(seq)):\n",
    "            insert_val = seq[i]\n",
    "            j = i\n",
    "            while j > gap - 1 and seq[j - gap] >= insert_val:\n",
    "                seq[j] = seq[j - gap] # this repoints index j to value at (j - gap) if the latter is greater. Shifting right.\n",
    "                j -= gap\n",
    "                seq[j] = insert_val # our value is inserted into the gap created by the shifting.\n",
    "        gap = (gap - 1) / 3\n",
    "    return seq"
   ]
  },
  {
   "cell_type": "code",
   "execution_count": 4,
   "metadata": {},
   "outputs": [
    {
     "name": "stdout",
     "output_type": "stream",
     "text": [
      "[6, 8, 0, 5, 1, 9, 9, 7, 2, 7]\n"
     ]
    }
   ],
   "source": [
    "from random import randrange\n",
    "\n",
    "test_arr = [randrange(10) for i in xrange(10)]\n",
    "print test_arr"
   ]
  },
  {
   "cell_type": "code",
   "execution_count": 5,
   "metadata": {},
   "outputs": [
    {
     "name": "stdout",
     "output_type": "stream",
     "text": [
      "[0, 1, 2, 5, 6, 7, 7, 8, 9, 9]\n"
     ]
    }
   ],
   "source": [
    "print shell_sort(test_arr)"
   ]
  }
 ],
 "metadata": {
  "kernelspec": {
   "display_name": "Python 2",
   "language": "python",
   "name": "python2"
  },
  "language_info": {
   "codemirror_mode": {
    "name": "ipython",
    "version": 2
   },
   "file_extension": ".py",
   "mimetype": "text/x-python",
   "name": "python",
   "nbconvert_exporter": "python",
   "pygments_lexer": "ipython2",
   "version": "2.7.13"
  }
 },
 "nbformat": 4,
 "nbformat_minor": 2
}
