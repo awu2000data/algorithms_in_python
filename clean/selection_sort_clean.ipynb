{
 "cells": [
  {
   "cell_type": "code",
   "execution_count": 1,
   "metadata": {},
   "outputs": [],
   "source": [
    "def selection_sort(seq):\n",
    "    \"\"\"\n",
    "    This has a worst case time complexity of O(n^2).\n",
    "    There is a single nested loop. The outer loop keeps track of the unsorted sub-array minimum.\n",
    "    The inner loop does swaps between the current outer iterator (i) (end of semi-sorted subsequence)\n",
    "    and the minimum value from the right unsorted subsequence.\n",
    "    \"\"\"\n",
    "    for i in xrange(len(seq) - 1):\n",
    "        min_index = i\n",
    "        for j in xrange(i + 1, len(seq)):\n",
    "            if seq[j] < seq[min_index]: # this check finds the index of the smallest right subsequence value.\n",
    "                min_index = j\n",
    "        if min_index != i: #i.e. if our minimum value index has moved.\n",
    "            seq[min_index], seq[i] = seq[i], seq[min_index]\n",
    "    return seq"
   ]
  },
  {
   "cell_type": "code",
   "execution_count": 4,
   "metadata": {},
   "outputs": [
    {
     "name": "stdout",
     "output_type": "stream",
     "text": [
      "[0, 1, 2, 9, 6, 7, 5, 9, 3, 1]\n"
     ]
    }
   ],
   "source": [
    "from random import randrange\n",
    "\n",
    "test_arr = [randrange(10) for i in xrange(10)]\n",
    "print test_arr"
   ]
  },
  {
   "cell_type": "code",
   "execution_count": 5,
   "metadata": {},
   "outputs": [
    {
     "name": "stdout",
     "output_type": "stream",
     "text": [
      "[0, 1, 1, 2, 3, 5, 6, 7, 9, 9]\n"
     ]
    }
   ],
   "source": [
    "print selection_sort(test_arr)"
   ]
  }
 ],
 "metadata": {
  "kernelspec": {
   "display_name": "Python 2",
   "language": "python",
   "name": "python2"
  },
  "language_info": {
   "codemirror_mode": {
    "name": "ipython",
    "version": 2
   },
   "file_extension": ".py",
   "mimetype": "text/x-python",
   "name": "python",
   "nbconvert_exporter": "python",
   "pygments_lexer": "ipython2",
   "version": "2.7.13"
  }
 },
 "nbformat": 4,
 "nbformat_minor": 2
}
