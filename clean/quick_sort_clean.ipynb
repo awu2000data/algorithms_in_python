{
 "cells": [
  {
   "cell_type": "code",
   "execution_count": 26,
   "metadata": {},
   "outputs": [],
   "source": [
    "def quick_sort(seq, l_index, r_index):\n",
    "    if l_index < r_index:\n",
    "        pivot = partition(seq, l_index, r_index)\n",
    "        quick_sort(seq, l_index, pivot - 1)\n",
    "        quick_sort(seq, pivot + 1, r_index)\n",
    "    return seq\n",
    "\n",
    "def partition(seq, l_index, r_index):\n",
    "    pivot = seq[l_index]\n",
    "    left = l_index + 1\n",
    "    right = r_index\n",
    "    done = False\n",
    "    \n",
    "    while not done:\n",
    "        while left <= right and seq[left] <= pivot:\n",
    "            left += 1\n",
    "        while right >= left and seq[right] >= pivot:\n",
    "            right -= 1\n",
    "        if right < left:\n",
    "            done = True # this exits our pointer movement loop.\n",
    "        else:\n",
    "            seq[left], seq[right] = seq[right], seq[left] # when we cannot move pointers as leftval > pivot & rightval < pivot\n",
    "    seq[l_index], seq[right] = seq[right], seq[l_index]\n",
    "    return right"
   ]
  },
  {
   "cell_type": "code",
   "execution_count": 39,
   "metadata": {},
   "outputs": [
    {
     "name": "stdout",
     "output_type": "stream",
     "text": [
      "[7, 3, 6, 3, 1, 4]\n"
     ]
    }
   ],
   "source": [
    "from random import randrange\n",
    "\n",
    "test_arr = [randrange(10) for i in xrange(6)]\n",
    "print test_arr"
   ]
  },
  {
   "cell_type": "code",
   "execution_count": 40,
   "metadata": {},
   "outputs": [
    {
     "name": "stdout",
     "output_type": "stream",
     "text": [
      "[1, 3, 3, 4, 6, 7]\n"
     ]
    }
   ],
   "source": [
    "print quick_sort(test_arr, 0, len(test_arr)-1)"
   ]
  }
 ],
 "metadata": {
  "kernelspec": {
   "display_name": "Python 2",
   "language": "python",
   "name": "python2"
  },
  "language_info": {
   "codemirror_mode": {
    "name": "ipython",
    "version": 2
   },
   "file_extension": ".py",
   "mimetype": "text/x-python",
   "name": "python",
   "nbconvert_exporter": "python",
   "pygments_lexer": "ipython2",
   "version": "2.7.13"
  }
 },
 "nbformat": 4,
 "nbformat_minor": 2
}
