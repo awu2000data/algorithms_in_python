{
 "cells": [
  {
   "cell_type": "code",
   "execution_count": 2,
   "metadata": {},
   "outputs": [],
   "source": [
    "def merge_sort(seq):\n",
    "    if len(seq) < 2:\n",
    "        return seq\n",
    "    \n",
    "    mid = len(seq)/2\n",
    "    left = merge_sort(seq[:mid])\n",
    "    right = merge_sort(seq[mid:])\n",
    "    \n",
    "    merged_sorted_arr = merge(left, right)\n",
    "    return merged_sorted_arr\n",
    "\n",
    "def merge(left, right):\n",
    "    result = []\n",
    "    \n",
    "    while len(left) > 0 and len(right) > 0:\n",
    "        if left[0] > right[0]:\n",
    "            result.append(right[0])\n",
    "            del right[0]\n",
    "        else:\n",
    "            result.append(left[0])\n",
    "            del left[0]\n",
    "            \n",
    "    while len(left) > 0:\n",
    "        result.append(left[0])\n",
    "        del left[0]\n",
    "    \n",
    "    while len(right) > 0:\n",
    "        result.append(right[0])\n",
    "        del right[0]\n",
    "    \n",
    "    return result"
   ]
  },
  {
   "cell_type": "code",
   "execution_count": 5,
   "metadata": {},
   "outputs": [
    {
     "name": "stdout",
     "output_type": "stream",
     "text": [
      "[4, 2, 8, 0, 0, 0, 8, 9, 7, 8]\n"
     ]
    }
   ],
   "source": [
    "from random import randrange\n",
    "\n",
    "test_arr = [randrange(10) for i in xrange(10)]\n",
    "print test_arr"
   ]
  },
  {
   "cell_type": "code",
   "execution_count": 6,
   "metadata": {},
   "outputs": [
    {
     "name": "stdout",
     "output_type": "stream",
     "text": [
      "[0, 0, 0, 2, 4, 7, 8, 8, 8, 9]\n"
     ]
    }
   ],
   "source": [
    "print merge_sort(test_arr)"
   ]
  }
 ],
 "metadata": {
  "kernelspec": {
   "display_name": "Python 2",
   "language": "python",
   "name": "python2"
  },
  "language_info": {
   "codemirror_mode": {
    "name": "ipython",
    "version": 2
   },
   "file_extension": ".py",
   "mimetype": "text/x-python",
   "name": "python",
   "nbconvert_exporter": "python",
   "pygments_lexer": "ipython2",
   "version": "2.7.13"
  }
 },
 "nbformat": 4,
 "nbformat_minor": 2
}
