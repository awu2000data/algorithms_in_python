{
 "cells": [
  {
   "cell_type": "code",
   "execution_count": 137,
   "metadata": {},
   "outputs": [],
   "source": [
    "def shell_sort(seq, debug=False):\n",
    "    \"\"\"\n",
    "    Worst case time complexity varies, but is O(n^2) in the worst known gap sequence.\n",
    "    \n",
    "    This sorting algorithm uses Knuth's formula to find a number to use as both the insertion point\n",
    "    into our sequence, and the number of elements behind that point to use for comparison.\n",
    "    Say the insertion point is index 4, then 4 - 4 = 0 is the index for evaluating. If index 0\n",
    "    is greater than index 4, they are swapped, and the pointer is moved along by 1.\n",
    "    When the end of the sequence is hit, the insertion index and gap are decremented by a\n",
    "    rearrangement of Knuth's formula. In our example, the next insertion index gap would be 1, \n",
    "    and the algorithm repeats until all is sorted.\n",
    "    \n",
    "    This is an unstable, in-place, adaptive sorting algorithm, meaning equal values can have their\n",
    "    relative order changed, but the space complexity is O(n) since we need no additional memory for\n",
    "    intermediate arrays, and it is adaptive because it performs better with partially sorted sequences.\n",
    "    \"\"\"\n",
    "    if debug is True:\n",
    "        print \"sequence before: {}\".format(seq)\n",
    "    interval = 1\n",
    "    while interval <= len(seq) / 3:\n",
    "        interval = (interval * 3) + 1\n",
    "        if debug is True:\n",
    "            print \"initial interval: {}\".format(interval)\n",
    "        \n",
    "    while interval > 0:\n",
    "        for i in xrange(interval, len(seq)):\n",
    "            insert_val = seq[i]\n",
    "            j = i\n",
    "            if debug is True:\n",
    "                print \"comparison value: {} at index {}\".format(seq[i], i)\n",
    "            \n",
    "            while j > interval - 1 and seq[j - interval] >= insert_val:\n",
    "                if debug is True:\n",
    "                    print \"swapping with: {} at index {}\\n\" \\\n",
    "                    .format(seq[j - interval], j-interval)\n",
    "                seq[j] = seq[j - interval] # shift element interval to left, rightwards.\n",
    "                j -= interval\n",
    "                seq[j] = insert_val # here we insert the value into the hole.\n",
    "                if debug is True:\n",
    "                    print \"sequence after swap:\\n{}\\n\".format(seq)    \n",
    "        \n",
    "        interval = (interval - 1) / 3\n",
    "        if debug is True:\n",
    "            print \"new interval: {}\".format(interval)\n",
    "    \n",
    "    if debug is True:\n",
    "        print \"final sequence: {}\".format(seq)\n",
    "    return seq"
   ]
  },
  {
   "cell_type": "code",
   "execution_count": 138,
   "metadata": {},
   "outputs": [
    {
     "name": "stdout",
     "output_type": "stream",
     "text": [
      "[1, 3, 4, 9, 0, 4, 5, 5, 7, 1]\n"
     ]
    }
   ],
   "source": [
    "from random import randrange\n",
    "\n",
    "test_arr = [randrange(10) for i in xrange(10)]\n",
    "print test_arr"
   ]
  },
  {
   "cell_type": "code",
   "execution_count": 139,
   "metadata": {},
   "outputs": [
    {
     "name": "stdout",
     "output_type": "stream",
     "text": [
      "[0, 1, 1, 3, 4, 4, 5, 5, 7, 9]\n"
     ]
    }
   ],
   "source": [
    "print shell_sort(test_arr)"
   ]
  },
  {
   "cell_type": "code",
   "execution_count": 144,
   "metadata": {},
   "outputs": [
    {
     "name": "stdout",
     "output_type": "stream",
     "text": [
      "[13, 4, 3, 8, 14]\n"
     ]
    }
   ],
   "source": [
    "test_arr2 = [randrange(30) for i in xrange(5)]\n",
    "print test_arr2"
   ]
  },
  {
   "cell_type": "code",
   "execution_count": 145,
   "metadata": {},
   "outputs": [
    {
     "name": "stdout",
     "output_type": "stream",
     "text": [
      "sequence before: [13, 4, 3, 8, 14]\n",
      "initial interval: 4\n",
      "comparison value: 14 at index 4\n",
      "new interval: 1\n",
      "comparison value: 4 at index 1\n",
      "swapping with: 13 at index 0\n",
      "\n",
      "sequence after swap:\n",
      "[4, 13, 3, 8, 14]\n",
      "\n",
      "comparison value: 3 at index 2\n",
      "swapping with: 13 at index 1\n",
      "\n",
      "sequence after swap:\n",
      "[4, 3, 13, 8, 14]\n",
      "\n",
      "swapping with: 4 at index 0\n",
      "\n",
      "sequence after swap:\n",
      "[3, 4, 13, 8, 14]\n",
      "\n",
      "comparison value: 8 at index 3\n",
      "swapping with: 13 at index 2\n",
      "\n",
      "sequence after swap:\n",
      "[3, 4, 8, 13, 14]\n",
      "\n",
      "comparison value: 14 at index 4\n",
      "new interval: 0\n",
      "final sequence: [3, 4, 8, 13, 14]\n"
     ]
    },
    {
     "data": {
      "text/plain": [
       "[3, 4, 8, 13, 14]"
      ]
     },
     "execution_count": 145,
     "metadata": {},
     "output_type": "execute_result"
    }
   ],
   "source": [
    "shell_sort(test_arr2, debug=True)"
   ]
  }
 ],
 "metadata": {
  "kernelspec": {
   "display_name": "Python 2",
   "language": "python",
   "name": "python2"
  },
  "language_info": {
   "codemirror_mode": {
    "name": "ipython",
    "version": 2
   },
   "file_extension": ".py",
   "mimetype": "text/x-python",
   "name": "python",
   "nbconvert_exporter": "python",
   "pygments_lexer": "ipython2",
   "version": "2.7.13"
  }
 },
 "nbformat": 4,
 "nbformat_minor": 2
}
