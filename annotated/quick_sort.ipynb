{
 "cells": [
  {
   "cell_type": "code",
   "execution_count": 102,
   "metadata": {},
   "outputs": [],
   "source": [
    "def quick_sort(seq, l_index, r_index, debug=False):\n",
    "    \"\"\"\n",
    "    This has a worst case time complexity of O(n^2) and a best case of Omega(n log(n)).\n",
    "    It takes an initial pivot point, and recursively uses sub-sequences either side, from which it\n",
    "    iterates a left pointer and a right pointer if conditions are met, towards each other from either\n",
    "    extreme of the sub-sequence, swapping any left and right elements pointed to if suitable.\n",
    "    Where the pointers meet is the new pivot point and the recursion is applied either side.\n",
    "    Eventually, all of the pivot points are returned to the main sequence, in sorted order.\n",
    "    \"\"\"\n",
    "    if l_index < r_index:\n",
    "        pivot = partition(seq, l_index, r_index, debug=debug)\n",
    "        # sort both halves\n",
    "        quick_sort(seq, l_index, pivot - 1, debug=debug)\n",
    "        quick_sort(seq, pivot + 1, r_index, debug=debug)\n",
    "    if debug:\n",
    "        return 'final sequence: {}'.format(seq)\n",
    "    return seq\n",
    "\n",
    "def partition(seq, l_index, r_index, debug=False):\n",
    "    \"\"\"\n",
    "    This helper function actually returns the new pivot, while sorting all items in the recursive\n",
    "    sub-sequences at the left and right pointers if the left items are greater than the right items.\n",
    "    This implementation uses the leftmost index as the initial pivot. The returned index is used\n",
    "    as the pivot point for the recursive sub-sequences to the right and the left of it.\n",
    "    \"\"\"\n",
    "    pivot = seq[l_index]\n",
    "    left = l_index + 1\n",
    "    right = r_index\n",
    "    done = False\n",
    "    \n",
    "    while not done:\n",
    "        \n",
    "        if debug:\n",
    "            print 'left -> {}'.format(left)\n",
    "        while left <= right and seq[left] <= pivot:\n",
    "            left += 1 # increment left pointer right by 1 while true.\n",
    "            if debug:\n",
    "                print 'left moved -> {}'.format(left)\n",
    "        \n",
    "        if debug:\n",
    "            print 'right -> {}'.format(right)\n",
    "        while right >=left and seq[right] >= pivot:\n",
    "            right -= 1 # increment right pointer left by 1 while true.\n",
    "            if debug:\n",
    "                print 'right moved -> {}'.format(right)\n",
    "        \n",
    "        if right < left:\n",
    "            done = True # this condition exits the pointer movement loop.\n",
    "        else:\n",
    "            # swap places\n",
    "            if debug:\n",
    "                print 'seq before: {}'.format(seq)\n",
    "                print '\\nswapping {} and {} at indices {} and {}\\n'.format(seq[left], seq[right], left, right)\n",
    "            seq[left], seq[right] = seq[right], seq[left]\n",
    "            if debug:\n",
    "                print 'seq after: {}'.format(seq)\n",
    "    # swap pivot with seq[right]\n",
    "    if debug:\n",
    "        print 'seq before: {}'.format(seq)\n",
    "        print '\\nL, R pointer movement done\\nswapping {} and {} at indices {} and {}\\n'.format(seq[l_index], seq[right], l_index, right)\n",
    "    seq[l_index], seq[right] = seq[right], seq[l_index]\n",
    "    if debug:\n",
    "                print 'seq after: {}'.format(seq)    \n",
    "    return right"
   ]
  },
  {
   "cell_type": "code",
   "execution_count": 88,
   "metadata": {},
   "outputs": [
    {
     "name": "stdout",
     "output_type": "stream",
     "text": [
      "[3, 6, 5, 9, 2, 7, 0, 5, 4, 5]\n"
     ]
    }
   ],
   "source": [
    "from random import randrange\n",
    "\n",
    "test_arr = [randrange(10) for i in xrange(10)]\n",
    "print test_arr"
   ]
  },
  {
   "cell_type": "code",
   "execution_count": 89,
   "metadata": {},
   "outputs": [
    {
     "name": "stdout",
     "output_type": "stream",
     "text": [
      "[0, 2, 3, 4, 5, 5, 5, 6, 7, 9]\n"
     ]
    }
   ],
   "source": [
    "print quick_sort(test_arr, 0, len(test_arr)-1)"
   ]
  },
  {
   "cell_type": "code",
   "execution_count": 103,
   "metadata": {},
   "outputs": [
    {
     "name": "stdout",
     "output_type": "stream",
     "text": [
      "[9, 1, 4, 7, 3, 3]\n"
     ]
    }
   ],
   "source": [
    "from random import randrange\n",
    "\n",
    "test_arr2 = [randrange(10) for i in xrange(6)]\n",
    "print test_arr2"
   ]
  },
  {
   "cell_type": "code",
   "execution_count": 104,
   "metadata": {},
   "outputs": [
    {
     "name": "stdout",
     "output_type": "stream",
     "text": [
      "left -> 1\n",
      "left moved -> 2\n",
      "left moved -> 3\n",
      "left moved -> 4\n",
      "left moved -> 5\n",
      "left moved -> 6\n",
      "right -> 5\n",
      "seq before: [9, 1, 4, 7, 3, 3]\n",
      "\n",
      "L, R pointer movement done\n",
      "swapping 9 and 3 at indices 0 and 5\n",
      "\n",
      "seq after: [3, 1, 4, 7, 3, 9]\n",
      "left -> 1\n",
      "left moved -> 2\n",
      "right -> 4\n",
      "right moved -> 3\n",
      "right moved -> 2\n",
      "right moved -> 1\n",
      "seq before: [3, 1, 4, 7, 3, 9]\n",
      "\n",
      "L, R pointer movement done\n",
      "swapping 3 and 1 at indices 0 and 1\n",
      "\n",
      "seq after: [1, 3, 4, 7, 3, 9]\n",
      "left -> 3\n",
      "right -> 4\n",
      "seq before: [1, 3, 4, 7, 3, 9]\n",
      "\n",
      "swapping 7 and 3 at indices 3 and 4\n",
      "\n",
      "seq after: [1, 3, 4, 3, 7, 9]\n",
      "left -> 3\n",
      "left moved -> 4\n",
      "right -> 4\n",
      "right moved -> 3\n",
      "seq before: [1, 3, 4, 3, 7, 9]\n",
      "\n",
      "L, R pointer movement done\n",
      "swapping 4 and 3 at indices 2 and 3\n",
      "\n",
      "seq after: [1, 3, 3, 4, 7, 9]\n",
      "final sequence: [1, 3, 3, 4, 7, 9]\n"
     ]
    }
   ],
   "source": [
    "print quick_sort(test_arr2, 0, len(test_arr2)-1, debug=True)"
   ]
  }
 ],
 "metadata": {
  "kernelspec": {
   "display_name": "Python 2",
   "language": "python",
   "name": "python2"
  },
  "language_info": {
   "codemirror_mode": {
    "name": "ipython",
    "version": 2
   },
   "file_extension": ".py",
   "mimetype": "text/x-python",
   "name": "python",
   "nbconvert_exporter": "python",
   "pygments_lexer": "ipython2",
   "version": "2.7.13"
  }
 },
 "nbformat": 4,
 "nbformat_minor": 2
}
