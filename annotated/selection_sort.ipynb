{
 "cells": [
  {
   "cell_type": "code",
   "execution_count": 58,
   "metadata": {},
   "outputs": [],
   "source": [
    "def selection_sort(seq, debug=False):\n",
    "    \"\"\"\n",
    "    This has a worst case time complexity of O(n^2).\n",
    "    There is a single nested loop. The outer loop keeps track of the unsorted sub-array minimum.\n",
    "    The inner loop does swaps between the current outer iterator (i) (end of semi-sorted subsequence)\n",
    "    and the minimum value from the right unsorted subsequence.\n",
    "    \"\"\"\n",
    "    for i in xrange(len(seq)-1):\n",
    "        minin = i\n",
    "        if debug is True:\n",
    "            print \"sequence before: {}\".format(seq)\n",
    "            print \"current minimum {} is at index: {}\".format(seq[minin], minin)\n",
    "        for j in xrange(i+1, len(seq)):\n",
    "            if debug is True:\n",
    "                print \"comparing {} and {}\".format(seq[minin], seq[j])\n",
    "            if seq[j] < seq[minin]:                    \n",
    "                minin = j\n",
    "            if debug is True:\n",
    "                print \"current minimum {} is at index: {}\".format(seq[minin], minin)\n",
    "        if minin != i:\n",
    "            if debug is True:\n",
    "                print \"swapping {} and {}\".format(seq[minin], seq[i])\n",
    "            seq[minin], seq[i] = seq[i], seq[minin]\n",
    "        if debug is True:\n",
    "            print \"sequence after: {}\\n\".format(seq)\n",
    "    if debug is True:\n",
    "        return \"final sequence: {}\".format(seq)\n",
    "    return seq"
   ]
  },
  {
   "cell_type": "code",
   "execution_count": 63,
   "metadata": {},
   "outputs": [
    {
     "name": "stdout",
     "output_type": "stream",
     "text": [
      "[4, 1, 9, 2, 3]\n"
     ]
    }
   ],
   "source": [
    "from random import randrange\n",
    "\n",
    "test_arr = [randrange(10) for i in xrange(5)]\n",
    "print test_arr"
   ]
  },
  {
   "cell_type": "code",
   "execution_count": 64,
   "metadata": {},
   "outputs": [
    {
     "name": "stdout",
     "output_type": "stream",
     "text": [
      "sequence before: [4, 1, 9, 2, 3]\n",
      "current minimum 4 is at index: 0\n",
      "comparing 4 and 1\n",
      "current minimum 1 is at index: 1\n",
      "comparing 1 and 9\n",
      "current minimum 1 is at index: 1\n",
      "comparing 1 and 2\n",
      "current minimum 1 is at index: 1\n",
      "comparing 1 and 3\n",
      "current minimum 1 is at index: 1\n",
      "swapping 1 and 4\n",
      "sequence after: [1, 4, 9, 2, 3]\n",
      "\n",
      "sequence before: [1, 4, 9, 2, 3]\n",
      "current minimum 4 is at index: 1\n",
      "comparing 4 and 9\n",
      "current minimum 4 is at index: 1\n",
      "comparing 4 and 2\n",
      "current minimum 2 is at index: 3\n",
      "comparing 2 and 3\n",
      "current minimum 2 is at index: 3\n",
      "swapping 2 and 4\n",
      "sequence after: [1, 2, 9, 4, 3]\n",
      "\n",
      "sequence before: [1, 2, 9, 4, 3]\n",
      "current minimum 9 is at index: 2\n",
      "comparing 9 and 4\n",
      "current minimum 4 is at index: 3\n",
      "comparing 4 and 3\n",
      "current minimum 3 is at index: 4\n",
      "swapping 3 and 9\n",
      "sequence after: [1, 2, 3, 4, 9]\n",
      "\n",
      "sequence before: [1, 2, 3, 4, 9]\n",
      "current minimum 4 is at index: 3\n",
      "comparing 4 and 9\n",
      "current minimum 4 is at index: 3\n",
      "sequence after: [1, 2, 3, 4, 9]\n",
      "\n",
      "final sequence: [1, 2, 3, 4, 9]\n"
     ]
    }
   ],
   "source": [
    "print selection_sort(test_arr, debug=True)"
   ]
  }
 ],
 "metadata": {
  "kernelspec": {
   "display_name": "Python 2",
   "language": "python",
   "name": "python2"
  },
  "language_info": {
   "codemirror_mode": {
    "name": "ipython",
    "version": 2
   },
   "file_extension": ".py",
   "mimetype": "text/x-python",
   "name": "python",
   "nbconvert_exporter": "python",
   "pygments_lexer": "ipython2",
   "version": "2.7.13"
  }
 },
 "nbformat": 4,
 "nbformat_minor": 2
}
