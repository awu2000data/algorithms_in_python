{
 "cells": [
  {
   "cell_type": "code",
   "execution_count": 16,
   "metadata": {},
   "outputs": [],
   "source": [
    "def insertion_sort(seq, debug=False):\n",
    "    \"\"\"\n",
    "    This algorithm has a worst case time complexity of O(n^2).\n",
    "    There is a nested loop, with a maximum of n iterations on each layer.\n",
    "    The first loop controls the insertion point. The second loop controls finding \n",
    "    the hole for the insertion point element, if it is less than the preceding elements.\n",
    "    Hence, worst case number of actions is n^2.\n",
    "    \"\"\"\n",
    "    for i in xrange(len(seq)):\n",
    "        insert_value = seq[i]\n",
    "        hole_position = i\n",
    "        if debug is True:\n",
    "            print \"sequence before: {}\".format(seq)\n",
    "            print \"insertion value is {}\".format(insert_value)\n",
    "        while hole_position > 0 and seq[hole_position-1] > insert_value:\n",
    "            # shifts elements to the right until the 'hole' for insertion is found.\n",
    "            seq[hole_position] = seq[hole_position-1]\n",
    "            hole_position -= 1\n",
    "        # the hole position in the sequence is filled with our insertion value.\n",
    "        if debug is True:\n",
    "            print \"we will insert at index {}\".format(hole_position)\n",
    "        seq[hole_position] = insert_value\n",
    "        if debug is True:\n",
    "            print \"sequence after: {}\".format(seq)\n",
    "    if debug is True:\n",
    "        return \"final sequence: {}\".format(seq)\n",
    "    return seq"
   ]
  },
  {
   "cell_type": "code",
   "execution_count": 17,
   "metadata": {},
   "outputs": [
    {
     "name": "stdout",
     "output_type": "stream",
     "text": [
      "[9, 8, 2, 8, 0]\n"
     ]
    }
   ],
   "source": [
    "from random import randrange\n",
    "\n",
    "test_arr = [randrange(10) for i in xrange(5)]\n",
    "print test_arr"
   ]
  },
  {
   "cell_type": "code",
   "execution_count": 18,
   "metadata": {},
   "outputs": [
    {
     "name": "stdout",
     "output_type": "stream",
     "text": [
      "sequence before: [9, 8, 2, 8, 0]\n",
      "insertion value is 9\n",
      "we will insert at index 0\n",
      "sequence after: [9, 8, 2, 8, 0]\n",
      "sequence before: [9, 8, 2, 8, 0]\n",
      "insertion value is 8\n",
      "we will insert at index 0\n",
      "sequence after: [8, 9, 2, 8, 0]\n",
      "sequence before: [8, 9, 2, 8, 0]\n",
      "insertion value is 2\n",
      "we will insert at index 0\n",
      "sequence after: [2, 8, 9, 8, 0]\n",
      "sequence before: [2, 8, 9, 8, 0]\n",
      "insertion value is 8\n",
      "we will insert at index 2\n",
      "sequence after: [2, 8, 8, 9, 0]\n",
      "sequence before: [2, 8, 8, 9, 0]\n",
      "insertion value is 0\n",
      "we will insert at index 0\n",
      "sequence after: [0, 2, 8, 8, 9]\n",
      "final sequence: [0, 2, 8, 8, 9]\n"
     ]
    }
   ],
   "source": [
    "print insertion_sort(test_arr, debug=True)"
   ]
  }
 ],
 "metadata": {
  "kernelspec": {
   "display_name": "Python 2",
   "language": "python",
   "name": "python2"
  },
  "language_info": {
   "codemirror_mode": {
    "name": "ipython",
    "version": 2
   },
   "file_extension": ".py",
   "mimetype": "text/x-python",
   "name": "python",
   "nbconvert_exporter": "python",
   "pygments_lexer": "ipython2",
   "version": "2.7.13"
  }
 },
 "nbformat": 4,
 "nbformat_minor": 2
}
