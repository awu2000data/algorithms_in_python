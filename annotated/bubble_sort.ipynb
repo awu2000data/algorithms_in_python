{
 "cells": [
  {
   "cell_type": "code",
   "execution_count": 72,
   "metadata": {},
   "outputs": [],
   "source": [
    "def bubble_sort(seq, debug=False):\n",
    "    \"\"\"\n",
    "    This sorting algorithm has a worst case time complexity of O(n^2).\n",
    "    The reason for this is we have a nested loop structure.\n",
    "    In this structure, the maximum iterations for each loop are n.\n",
    "    We can have up to n^2 actions in the worst case time complexity.\n",
    "    \"\"\"\n",
    "    for i in xrange(len(seq)-1):\n",
    "        swapped = False\n",
    "        for j in xrange(len(seq)-1):\n",
    "            if debug is True:\n",
    "                print \"sequence before: {}\".format(seq)\n",
    "                print \"comparing {} and {}\".format(seq[j], seq[j+1])\n",
    "            if seq[j] > seq[j+1]:\n",
    "                if debug is True:\n",
    "                    print \"swapping {} and {}\".format(seq[j], seq[j+1])\n",
    "                seq[j], seq[j+1] = seq[j+1], seq[j]\n",
    "            if debug is True:\n",
    "                print \"sequence after: {}\".format(seq)\n",
    "                swapped = True\n",
    "        if swapped is False:\n",
    "            break\n",
    "    if debug is True:\n",
    "        return \"final sequence: {}\".format(seq)\n",
    "    return seq"
   ]
  },
  {
   "cell_type": "code",
   "execution_count": 73,
   "metadata": {},
   "outputs": [
    {
     "name": "stdout",
     "output_type": "stream",
     "text": [
      "[8, 2, 5, 3]\n"
     ]
    }
   ],
   "source": [
    "from random import randrange\n",
    "\n",
    "arr = [randrange(10) for i in xrange(4)]\n",
    "print arr"
   ]
  },
  {
   "cell_type": "code",
   "execution_count": 74,
   "metadata": {},
   "outputs": [
    {
     "name": "stdout",
     "output_type": "stream",
     "text": [
      "sequence before: [8, 2, 5, 3]\n",
      "comparing 8 and 2\n",
      "swapping 8 and 2\n",
      "sequence after: [2, 8, 5, 3]\n",
      "sequence before: [2, 8, 5, 3]\n",
      "comparing 8 and 5\n",
      "swapping 8 and 5\n",
      "sequence after: [2, 5, 8, 3]\n",
      "sequence before: [2, 5, 8, 3]\n",
      "comparing 8 and 3\n",
      "swapping 8 and 3\n",
      "sequence after: [2, 5, 3, 8]\n",
      "sequence before: [2, 5, 3, 8]\n",
      "comparing 2 and 5\n",
      "sequence after: [2, 5, 3, 8]\n",
      "sequence before: [2, 5, 3, 8]\n",
      "comparing 5 and 3\n",
      "swapping 5 and 3\n",
      "sequence after: [2, 3, 5, 8]\n",
      "sequence before: [2, 3, 5, 8]\n",
      "comparing 5 and 8\n",
      "sequence after: [2, 3, 5, 8]\n",
      "sequence before: [2, 3, 5, 8]\n",
      "comparing 2 and 3\n",
      "sequence after: [2, 3, 5, 8]\n",
      "sequence before: [2, 3, 5, 8]\n",
      "comparing 3 and 5\n",
      "sequence after: [2, 3, 5, 8]\n",
      "sequence before: [2, 3, 5, 8]\n",
      "comparing 5 and 8\n",
      "sequence after: [2, 3, 5, 8]\n",
      "final sequence: [2, 3, 5, 8]\n"
     ]
    }
   ],
   "source": [
    "print bubble_sort(arr, debug=True)"
   ]
  }
 ],
 "metadata": {
  "kernelspec": {
   "display_name": "Python 2",
   "language": "python",
   "name": "python2"
  },
  "language_info": {
   "codemirror_mode": {
    "name": "ipython",
    "version": 2
   },
   "file_extension": ".py",
   "mimetype": "text/x-python",
   "name": "python",
   "nbconvert_exporter": "python",
   "pygments_lexer": "ipython2",
   "version": "2.7.13"
  }
 },
 "nbformat": 4,
 "nbformat_minor": 2
}
