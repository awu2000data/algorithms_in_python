{
 "cells": [
  {
   "cell_type": "code",
   "execution_count": 1,
   "metadata": {},
   "outputs": [],
   "source": [
    "def merge_sort(seq, debug=False):\n",
    "    \"\"\"\n",
    "    This algorithm has a worst case time complexity of O(n log(n)).\n",
    "    It is composed of two parts, the recursive splitting into atomic arrays,\n",
    "    and the recursive merging back to one sorted array from sorted subarrays.\n",
    "    The recursive merging is O(n), while the recursive splitting is O(log n).\n",
    "    in terms of worst case time complexity.\n",
    "    \"\"\"\n",
    "    if debug is True:\n",
    "        print \"unsorted array: {}\".format(seq)\n",
    "    \n",
    "    if len(seq) < 2:\n",
    "        return seq\n",
    "    \n",
    "    mid = len(seq)/2\n",
    "    left_arr = merge_sort(seq[:mid], debug=debug)\n",
    "    right_arr = merge_sort(seq[mid:], debug=debug)\n",
    "\n",
    "    merged_sorted_arr = merge(left_arr, right_arr, debug=debug)\n",
    "    \n",
    "    return merged_sorted_arr\n",
    "\n",
    "def merge(left, right, debug=False):\n",
    "    if debug is True:\n",
    "        print \"left array: {}\\nright array: {}\".format(left, right)\n",
    "    result = []\n",
    "    \n",
    "    while len(left) > 0 and len(right) > 0:\n",
    "        if left[0] > right[0]:\n",
    "            result.append(right[0])\n",
    "            del right[0]\n",
    "        else:\n",
    "            result.append(left[0])\n",
    "            del left[0]\n",
    "            \n",
    "    while len(left) > 0:\n",
    "        result.append(left[0])\n",
    "        del left[0]\n",
    "    \n",
    "    while len(right) > 0:\n",
    "        result.append(right[0])\n",
    "        del right[0]\n",
    "    if debug is True:\n",
    "        print \"merged sorted array: {}\".format(result)\n",
    "    return result"
   ]
  },
  {
   "cell_type": "code",
   "execution_count": 2,
   "metadata": {},
   "outputs": [
    {
     "name": "stdout",
     "output_type": "stream",
     "text": [
      "[6, 5, 1, 4, 8]\n"
     ]
    }
   ],
   "source": [
    "from random import randrange\n",
    "\n",
    "test_arr = [randrange(10) for i in xrange(5)]\n",
    "print test_arr"
   ]
  },
  {
   "cell_type": "code",
   "execution_count": 3,
   "metadata": {},
   "outputs": [
    {
     "name": "stdout",
     "output_type": "stream",
     "text": [
      "unsorted array: [6, 5, 1, 4, 8]\n",
      "unsorted array: [6, 5]\n",
      "unsorted array: [6]\n",
      "unsorted array: [5]\n",
      "left array: [6]\n",
      "right array: [5]\n",
      "merged sorted array: [5, 6]\n",
      "unsorted array: [1, 4, 8]\n",
      "unsorted array: [1]\n",
      "unsorted array: [4, 8]\n",
      "unsorted array: [4]\n",
      "unsorted array: [8]\n",
      "left array: [4]\n",
      "right array: [8]\n",
      "merged sorted array: [4, 8]\n",
      "left array: [1]\n",
      "right array: [4, 8]\n",
      "merged sorted array: [1, 4, 8]\n",
      "left array: [5, 6]\n",
      "right array: [1, 4, 8]\n",
      "merged sorted array: [1, 4, 5, 6, 8]\n",
      "[1, 4, 5, 6, 8]\n"
     ]
    }
   ],
   "source": [
    "print merge_sort(test_arr, debug=True)"
   ]
  },
  {
   "cell_type": "code",
   "execution_count": 4,
   "metadata": {},
   "outputs": [
    {
     "name": "stdout",
     "output_type": "stream",
     "text": [
      "[7, 6, 4, 1, 8, 7, 7, 1]\n"
     ]
    }
   ],
   "source": [
    "test_arr2 = [randrange(10) for i in xrange(8)]\n",
    "print test_arr2"
   ]
  },
  {
   "cell_type": "code",
   "execution_count": 5,
   "metadata": {},
   "outputs": [
    {
     "name": "stdout",
     "output_type": "stream",
     "text": [
      "[1, 1, 4, 6, 7, 7, 7, 8]\n"
     ]
    }
   ],
   "source": [
    "print merge_sort(test_arr2)"
   ]
  }
 ],
 "metadata": {
  "kernelspec": {
   "display_name": "Python 2",
   "language": "python",
   "name": "python2"
  },
  "language_info": {
   "codemirror_mode": {
    "name": "ipython",
    "version": 2
   },
   "file_extension": ".py",
   "mimetype": "text/x-python",
   "name": "python",
   "nbconvert_exporter": "python",
   "pygments_lexer": "ipython2",
   "version": "2.7.13"
  }
 },
 "nbformat": 4,
 "nbformat_minor": 2
}
