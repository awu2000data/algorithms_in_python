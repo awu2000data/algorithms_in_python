{
 "cells": [
  {
   "cell_type": "code",
   "execution_count": 222,
   "metadata": {},
   "outputs": [],
   "source": [
    "def merge_sort(seq, debug=False):\n",
    "    \"\"\"\n",
    "    This algorithm has a worst case time complexity of O(n log(n)).\n",
    "    It is composed of two parts, the recursive splitting into atomic arrays,\n",
    "    and the recursive merging back to one sorted array from sorted subarrays.\n",
    "    The recursive merging is O(n), while the recursive splitting is O(log n).\n",
    "    in terms of worst case time complexity.\n",
    "    \"\"\"\n",
    "    if debug is True:\n",
    "        print \"unsorted array: {}\".format(seq)\n",
    "    \n",
    "    if len(seq) < 2:\n",
    "        return seq\n",
    "    \n",
    "    mid = len(seq)/2\n",
    "    left_arr = merge_sort(seq[:mid], debug=debug)\n",
    "    right_arr = merge_sort(seq[mid:], debug=debug)\n",
    "\n",
    "    merged_sorted_arr = merge(left_arr, right_arr, debug=debug)\n",
    "    \n",
    "    return merged_sorted_arr\n",
    "\n",
    "def merge(left, right, debug=False):\n",
    "    if debug is True:\n",
    "        print \"left array: {}\\nright array: {}\".format(left, right)\n",
    "    \n",
    "    result = []\n",
    "    \n",
    "    \n",
    "    while left and right:\n",
    "        if left[0] > right[0]:\n",
    "            result.append(right[0])\n",
    "            right.pop(0)\n",
    "        else:\n",
    "            result.append(left[0])\n",
    "            left.pop(0)\n",
    "    \n",
    "    while left:\n",
    "        result.append(left[0])\n",
    "        left.pop(0)\n",
    "        \n",
    "    while right:\n",
    "        result.append(right[0])\n",
    "        right.pop(0)\n",
    "    if debug is True:\n",
    "        print \"merged sorted array: {}\".format(result)\n",
    "    return result"
   ]
  },
  {
   "cell_type": "code",
   "execution_count": 227,
   "metadata": {},
   "outputs": [
    {
     "name": "stdout",
     "output_type": "stream",
     "text": [
      "[0, 8, 3, 2, 8]\n"
     ]
    }
   ],
   "source": [
    "from random import randrange\n",
    "\n",
    "test_arr = [randrange(10) for i in xrange(5)]\n",
    "print test_arr"
   ]
  },
  {
   "cell_type": "code",
   "execution_count": 228,
   "metadata": {},
   "outputs": [
    {
     "name": "stdout",
     "output_type": "stream",
     "text": [
      "unsorted array: [0, 8, 3, 2, 8]\n",
      "unsorted array: [0, 8]\n",
      "unsorted array: [0]\n",
      "unsorted array: [8]\n",
      "left array: [0]\n",
      "right array: [8]\n",
      "merged sorted array: [0, 8]\n",
      "unsorted array: [3, 2, 8]\n",
      "unsorted array: [3]\n",
      "unsorted array: [2, 8]\n",
      "unsorted array: [2]\n",
      "unsorted array: [8]\n",
      "left array: [2]\n",
      "right array: [8]\n",
      "merged sorted array: [2, 8]\n",
      "left array: [3]\n",
      "right array: [2, 8]\n",
      "merged sorted array: [2, 3, 8]\n",
      "left array: [0, 8]\n",
      "right array: [2, 3, 8]\n",
      "merged sorted array: [0, 2, 3, 8, 8]\n",
      "[0, 2, 3, 8, 8]\n"
     ]
    }
   ],
   "source": [
    "print merge_sort(test_arr, debug=True)"
   ]
  },
  {
   "cell_type": "code",
   "execution_count": 229,
   "metadata": {},
   "outputs": [
    {
     "name": "stdout",
     "output_type": "stream",
     "text": [
      "[0, 3, 3, 8, 4, 8, 2, 1]\n"
     ]
    }
   ],
   "source": [
    "test_arr2 = [randrange(10) for i in xrange(8)]\n",
    "print test_arr2"
   ]
  },
  {
   "cell_type": "code",
   "execution_count": 230,
   "metadata": {},
   "outputs": [
    {
     "name": "stdout",
     "output_type": "stream",
     "text": [
      "[0, 1, 2, 3, 3, 4, 8, 8]\n"
     ]
    }
   ],
   "source": [
    "print merge_sort(test_arr2)"
   ]
  }
 ],
 "metadata": {
  "kernelspec": {
   "display_name": "Python 2",
   "language": "python",
   "name": "python2"
  },
  "language_info": {
   "codemirror_mode": {
    "name": "ipython",
    "version": 2
   },
   "file_extension": ".py",
   "mimetype": "text/x-python",
   "name": "python",
   "nbconvert_exporter": "python",
   "pygments_lexer": "ipython2",
   "version": "2.7.13"
  }
 },
 "nbformat": 4,
 "nbformat_minor": 2
}
